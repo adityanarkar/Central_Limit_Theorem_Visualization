{
 "cells": [
  {
   "cell_type": "code",
   "execution_count": 79,
   "metadata": {},
   "outputs": [],
   "source": [
    "import random\n",
    "import matplotlib.pyplot as plt\n",
    "\n",
    "max_sample_size = 5\n",
    "number_of_times = 500\n",
    "# print(\"Sample size: \", sample_size)\n",
    "# print(\"number of repetitions: \", number_of_times)"
   ]
  },
  {
   "cell_type": "code",
   "execution_count": 80,
   "metadata": {},
   "outputs": [
    {
     "data": {
      "image/png": "[encoded data removed]",
      "text/plain": [
       "<matplotlib.figure.Figure at 0x119238748>"
      ]
     },
     "metadata": {
      "needs_background": "light"
     },
     "output_type": "display_data"
    }
   ],
   "source": [
    "sample_mean = {}\n",
    "for tries in range(number_of_times):\n",
    "    sum = 0\n",
    "    for sample_size in range(max_sample_size):\n",
    "        rand_num = random.randint(1,6)\n",
    "        sum = (sum + rand_num)\n",
    "    mean = sum / max_sample_size\n",
    "    if mean in sample_mean:\n",
    "        sample_mean[mean] = sample_mean[mean] + 1\n",
    "    else:\n",
    "        sample_mean[mean] = 1\n",
    "\n",
    "keys = []\n",
    "values = []\n",
    "for key in sorted(sample_mean.keys()):\n",
    "    keys.append(key)\n",
    "    values.append(sample_mean[key])\n",
    "        \n",
    "plt.bar(range(len(sample_mean)), values, align='center')\n",
    "plt.xticks(range(len(sample_mean)), keys)\n",
    "plt.show()"
   ]
  },
  {
   "cell_type": "code",
   "execution_count": null,
   "metadata": {},
   "outputs": [],
   "source": []
  }
 ],
 "metadata": {
  "kernelspec": {
   "display_name": "Python 3",
   "language": "python",
   "name": "python3"
  },
  "language_info": {
   "codemirror_mode": {
    "name": "ipython",
    "version": 3
   },
   "file_extension": ".py",
   "mimetype": "text/x-python",
   "name": "python",
   "nbconvert_exporter": "python",
   "pygments_lexer": "ipython3",
   "version": "3.6.2"
  }
 },
 "nbformat": 4,
 "nbformat_minor": 2
}
